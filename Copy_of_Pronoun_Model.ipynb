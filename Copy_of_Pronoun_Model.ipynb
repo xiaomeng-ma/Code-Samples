{
  "nbformat": 4,
  "nbformat_minor": 0,
  "metadata": {
    "colab": {
      "name": "Copy of Pronoun Model.ipynb",
      "provenance": [],
      "machine_shape": "hm",
      "authorship_tag": "ABX9TyOSqQ1et0NaEvehuCHReqLp",
      "include_colab_link": true
    },
    "kernelspec": {
      "name": "python3",
      "display_name": "Python 3"
    },
    "accelerator": "GPU"
  },
  "cells": [
    {
      "cell_type": "markdown",
      "metadata": {
        "id": "view-in-github",
        "colab_type": "text"
      },
      "source": [
        "<a href=\"https://colab.research.google.com/github/xiaomeng-ma/Code-Samples/blob/main/Copy_of_Pronoun_Model.ipynb\" target=\"_parent\"><img src=\"https://colab.research.google.com/assets/colab-badge.svg\" alt=\"Open In Colab\"/></a>"
      ]
    },
    {
      "cell_type": "code",
      "metadata": {
        "id": "aVbaGUJ9oIsL"
      },
      "source": [
        "!pip install PyDrive\n",
        "from pydrive.auth import GoogleAuth\n",
        "from pydrive.drive import GoogleDrive\n",
        "from google.colab import auth\n",
        "from oauth2client.client import GoogleCredentials\n",
        "# Authenticate and create the PyDrive client.\n",
        "auth.authenticate_user()\n",
        "gauth = GoogleAuth()\n",
        "gauth.credentials = GoogleCredentials.get_application_default()\n",
        "drive = GoogleDrive(gauth)"
      ],
      "execution_count": null,
      "outputs": []
    },
    {
      "cell_type": "code",
      "metadata": {
        "id": "wNfwG4FLoURA",
        "colab": {
          "base_uri": "https://localhost:8080/"
        },
        "outputId": "1dd906c3-ba9e-42f0-9925-3fc55e4b4bd9"
      },
      "source": [
        "from google.colab import drive \n",
        "drive.mount('/content/drive')"
      ],
      "execution_count": null,
      "outputs": [
        {
          "output_type": "stream",
          "text": [
            "Mounted at /content/drive\n"
          ],
          "name": "stdout"
        }
      ]
    },
    {
      "cell_type": "code",
      "metadata": {
        "id": "EKyLtIWKodtI",
        "colab": {
          "base_uri": "https://localhost:8080/"
        },
        "outputId": "421ecd16-8c89-4421-bc6d-6fd98c39bbf2"
      },
      "source": [
        "\n",
        "!pip install git+https://github.com/tensorflow/docs\n",
        "\n",
        "import tensorflow_docs as tfdocs\n",
        "import tensorflow_docs.plots\n",
        "import tensorflow_docs.modeling\n",
        "import tensorflow as tf\n",
        "import matplotlib.pyplot as plt\n",
        "def plot_graphs(history, metric):\n",
        "    plt.plot(history.history[metric])\n",
        "    plt.plot(history.history['val_'+metric], '')\n",
        "    plt.xlabel(\"Epochs\")\n",
        "    plt.ylabel(metric)\n",
        "    plt.legend([metric, 'val_'+metric])\n",
        "    plt.show()\n",
        "from nltk.corpus import PlaintextCorpusReader\n",
        "from nltk.corpus.reader import CHILDESCorpusReader\n",
        "import numpy as np\n",
        "import pandas as pd\n",
        "from pandas import DataFrame\n",
        "from nltk.probability import FreqDist\n",
        "import string\n",
        "from nltk.stem.wordnet import WordNetLemmatizer\n",
        "\n",
        "import matplotlib.pyplot as plt\n",
        "from scipy import stats\n",
        "import itertools\n",
        "\n",
        "from scipy import optimize\n",
        "from scipy.optimize import curve_fit\n",
        "import seaborn as sns\n",
        "import matplotlib.pyplot as plt\n",
        "from numpy import log as ln\n",
        "\n",
        "import numpy\n",
        "import math\n",
        "from keras.preprocessing import sequence\n",
        "from keras.models import Sequential\n",
        "from keras.layers import Dense, Dropout, Activation,Flatten\n",
        "from keras.layers import LSTM, Bidirectional\n",
        "from tensorflow.keras.layers import Embedding, TimeDistributed\n",
        "from keras.layers import Conv1D,Conv2D, GlobalMaxPooling1D, GlobalMaxPooling2D\n",
        "from keras.initializers import Constant\n",
        "from tensorflow.keras.preprocessing.text import Tokenizer\n",
        "from tensorflow.keras.preprocessing.sequence import pad_sequences\n",
        "from nltk.corpus import stopwords\n",
        "from nltk.tokenize import word_tokenize\n",
        "import matplotlib.ticker as ticker\n",
        "from sklearn.model_selection import StratifiedKFold,train_test_split\n",
        "\n",
        "from sklearn.feature_extraction.text import TfidfTransformer\n",
        "from sklearn.feature_extraction.text import TfidfVectorizer\n",
        "from tensorflow import keras\n",
        "from tensorflow.keras import layers\n",
        "from keras.utils import to_categorical\n",
        "from sklearn.preprocessing import LabelEncoder, OneHotEncoder\n",
        "from gensim.models import Word2Vec\n",
        "from sklearn.decomposition import PCA\n",
        "from sklearn.utils import shuffle\n",
        "import gensim\n"
      ],
      "execution_count": 5,
      "outputs": [
        {
          "output_type": "stream",
          "text": [
            "Collecting git+https://github.com/tensorflow/docs\n",
            "  Cloning https://github.com/tensorflow/docs to /tmp/pip-req-build-5h6p_vvo\n",
            "  Running command git clone -q https://github.com/tensorflow/docs /tmp/pip-req-build-5h6p_vvo\n",
            "Requirement already satisfied (use --upgrade to upgrade): tensorflow-docs===0.0.0a8a2778e805509eb0ec0c2487732a9085db33900- from git+https://github.com/tensorflow/docs in /usr/local/lib/python3.6/dist-packages\n",
            "Requirement already satisfied: astor in /usr/local/lib/python3.6/dist-packages (from tensorflow-docs===0.0.0a8a2778e805509eb0ec0c2487732a9085db33900-) (0.8.1)\n",
            "Requirement already satisfied: absl-py in /usr/local/lib/python3.6/dist-packages (from tensorflow-docs===0.0.0a8a2778e805509eb0ec0c2487732a9085db33900-) (0.10.0)\n",
            "Requirement already satisfied: protobuf>=3.14 in /usr/local/lib/python3.6/dist-packages (from tensorflow-docs===0.0.0a8a2778e805509eb0ec0c2487732a9085db33900-) (3.14.0)\n",
            "Requirement already satisfied: pyyaml in /usr/local/lib/python3.6/dist-packages (from tensorflow-docs===0.0.0a8a2778e805509eb0ec0c2487732a9085db33900-) (3.13)\n",
            "Requirement already satisfied: dataclasses in /usr/local/lib/python3.6/dist-packages (from tensorflow-docs===0.0.0a8a2778e805509eb0ec0c2487732a9085db33900-) (0.8)\n",
            "Requirement already satisfied: six in /usr/local/lib/python3.6/dist-packages (from absl-py->tensorflow-docs===0.0.0a8a2778e805509eb0ec0c2487732a9085db33900-) (1.15.0)\n",
            "Building wheels for collected packages: tensorflow-docs\n",
            "  Building wheel for tensorflow-docs (setup.py) ... \u001b[?25l\u001b[?25hdone\n",
            "  Created wheel for tensorflow-docs: filename=tensorflow_docs-0.0.0a8a2778e805509eb0ec0c2487732a9085db33900_-cp36-none-any.whl size=146834 sha256=b228897d1b58469e7a2c57f644448cf9a793983428b765b32c7278d42a673189\n",
            "  Stored in directory: /tmp/pip-ephem-wheel-cache-cx21my3e/wheels/eb/1b/35/fce87697be00d2fc63e0b4b395b0d9c7e391a10e98d9a0d97f\n",
            "Successfully built tensorflow-docs\n"
          ],
          "name": "stdout"
        }
      ]
    },
    {
      "cell_type": "markdown",
      "metadata": {
        "id": "HUCrarEyp-dQ"
      },
      "source": [
        "#**First model: Using all the samples** (24889 tokens)\n",
        "\n",
        "\n",
        "\n"
      ]
    },
    {
      "cell_type": "code",
      "metadata": {
        "id": "rhE-Qsr2ogGu",
        "colab": {
          "base_uri": "https://localhost:8080/",
          "height": 241
        },
        "outputId": "660fe850-0fa0-4d4d-8179-d860929d3731"
      },
      "source": [
        "#import data \n",
        "#Data is generated from CHILDES corpus has been preprocessed \n",
        "file = '/content/drive/My Drive/QP2/Input Model/df24889.csv'\n",
        "df = pd.read_csv(file)\n",
        "df = shuffle(df)\n",
        "df.head()"
      ],
      "execution_count": 6,
      "outputs": [
        {
          "output_type": "execute_result",
          "data": {
            "text/html": [
              "<div>\n",
              "<style scoped>\n",
              "    .dataframe tbody tr th:only-of-type {\n",
              "        vertical-align: middle;\n",
              "    }\n",
              "\n",
              "    .dataframe tbody tr th {\n",
              "        vertical-align: top;\n",
              "    }\n",
              "\n",
              "    .dataframe thead th {\n",
              "        text-align: right;\n",
              "    }\n",
              "</style>\n",
              "<table border=\"1\" class=\"dataframe\">\n",
              "  <thead>\n",
              "    <tr style=\"text-align: right;\">\n",
              "      <th></th>\n",
              "      <th>Unnamed: 0</th>\n",
              "      <th>file</th>\n",
              "      <th>a</th>\n",
              "      <th>a_tag</th>\n",
              "      <th>X</th>\n",
              "      <th>X_tag</th>\n",
              "      <th>b</th>\n",
              "      <th>b_tag</th>\n",
              "      <th>grammar cateogry</th>\n",
              "      <th>encode_cat</th>\n",
              "      <th>encode_pos</th>\n",
              "      <th>name</th>\n",
              "      <th>encoded_case</th>\n",
              "      <th>aXb</th>\n",
              "    </tr>\n",
              "  </thead>\n",
              "  <tbody>\n",
              "    <tr>\n",
              "      <th>22717</th>\n",
              "      <td>14929</td>\n",
              "      <td>Eve/020100a.xml</td>\n",
              "      <td>chew</td>\n",
              "      <td>v</td>\n",
              "      <td>them</td>\n",
              "      <td>pro:obj</td>\n",
              "      <td>up</td>\n",
              "      <td>adv</td>\n",
              "      <td>NOUN</td>\n",
              "      <td>6</td>\n",
              "      <td>72</td>\n",
              "      <td>Eve</td>\n",
              "      <td>1</td>\n",
              "      <td>chew_up</td>\n",
              "    </tr>\n",
              "    <tr>\n",
              "      <th>4592</th>\n",
              "      <td>21268</td>\n",
              "      <td>Nina/020305.xml</td>\n",
              "      <td>shall</td>\n",
              "      <td>mod</td>\n",
              "      <td>I</td>\n",
              "      <td>pro:sub</td>\n",
              "      <td>stick</td>\n",
              "      <td>v</td>\n",
              "      <td>NOUN</td>\n",
              "      <td>6</td>\n",
              "      <td>84</td>\n",
              "      <td>Nina</td>\n",
              "      <td>2</td>\n",
              "      <td>shall_stick</td>\n",
              "    </tr>\n",
              "    <tr>\n",
              "      <th>5583</th>\n",
              "      <td>23713</td>\n",
              "      <td>Aran/020610.xml</td>\n",
              "      <td>now</td>\n",
              "      <td>adv</td>\n",
              "      <td>we</td>\n",
              "      <td>pro:sub</td>\n",
              "      <td>want</td>\n",
              "      <td>v</td>\n",
              "      <td>NOUN</td>\n",
              "      <td>6</td>\n",
              "      <td>84</td>\n",
              "      <td>Aran</td>\n",
              "      <td>2</td>\n",
              "      <td>now_want</td>\n",
              "    </tr>\n",
              "    <tr>\n",
              "      <th>11508</th>\n",
              "      <td>4460</td>\n",
              "      <td>Nina/020305.xml</td>\n",
              "      <td>kidding</td>\n",
              "      <td>part</td>\n",
              "      <td>him</td>\n",
              "      <td>pro:obj</td>\n",
              "      <td>E</td>\n",
              "      <td>/e</td>\n",
              "      <td>NOUN</td>\n",
              "      <td>6</td>\n",
              "      <td>72</td>\n",
              "      <td>Nina</td>\n",
              "      <td>1</td>\n",
              "      <td>kidding_E</td>\n",
              "    </tr>\n",
              "    <tr>\n",
              "      <th>3586</th>\n",
              "      <td>1786</td>\n",
              "      <td>Nina/020106.xml</td>\n",
              "      <td>put</td>\n",
              "      <td>v</td>\n",
              "      <td>your</td>\n",
              "      <td>det:poss</td>\n",
              "      <td>slippers</td>\n",
              "      <td>n</td>\n",
              "      <td>DET</td>\n",
              "      <td>4</td>\n",
              "      <td>25</td>\n",
              "      <td>Nina</td>\n",
              "      <td>0</td>\n",
              "      <td>put_slippers</td>\n",
              "    </tr>\n",
              "  </tbody>\n",
              "</table>\n",
              "</div>"
            ],
            "text/plain": [
              "       Unnamed: 0             file        a  ...  name encoded_case           aXb\n",
              "22717       14929  Eve/020100a.xml     chew  ...   Eve            1       chew_up\n",
              "4592        21268  Nina/020305.xml    shall  ...  Nina            2   shall_stick\n",
              "5583        23713  Aran/020610.xml      now  ...  Aran            2      now_want\n",
              "11508        4460  Nina/020305.xml  kidding  ...  Nina            1     kidding_E\n",
              "3586         1786  Nina/020106.xml      put  ...  Nina            0  put_slippers\n",
              "\n",
              "[5 rows x 14 columns]"
            ]
          },
          "metadata": {
            "tags": []
          },
          "execution_count": 6
        }
      ]
    },
    {
      "cell_type": "code",
      "metadata": {
        "id": "4Yb-JHDbVc-N"
      },
      "source": [
        "first_person = ['I', 'me', 'my', 'we','our','us']\n",
        "second_person = ['your']\n",
        "plural = ['your', 'we', 'us', 'our', 'they', 'them', 'their']\n",
        "mas = ['he', 'him','his']\n",
        "fem = ['she', 'her']"
      ],
      "execution_count": 7,
      "outputs": []
    },
    {
      "cell_type": "code",
      "metadata": {
        "id": "0fuomjeyVE8a"
      },
      "source": [
        "def person(row):\n",
        "    if row['X'] in first_person:\n",
        "        val = 1\n",
        "    elif row['X'] in second_person:\n",
        "        val = 2\n",
        "    else:\n",
        "        val = 0\n",
        "    return val\n",
        "def number(row):\n",
        "  if row ['X'] in plural:\n",
        "    val = 1\n",
        "  else:\n",
        "    val = 0 \n",
        "  return val\n",
        "def gender(row):\n",
        "  if row['X'] in mas:\n",
        "    val = 1\n",
        "  elif row['X'] in fem:\n",
        "    val = 2\n",
        "  else:\n",
        "    val = 0\n",
        "  return val"
      ],
      "execution_count": 8,
      "outputs": []
    },
    {
      "cell_type": "code",
      "metadata": {
        "id": "66LqPj5xWEFW",
        "colab": {
          "base_uri": "https://localhost:8080/",
          "height": 241
        },
        "outputId": "757e8f84-ab9e-4dc4-b406-55fa0cb1a29d"
      },
      "source": [
        "df.head()"
      ],
      "execution_count": 9,
      "outputs": [
        {
          "output_type": "execute_result",
          "data": {
            "text/html": [
              "<div>\n",
              "<style scoped>\n",
              "    .dataframe tbody tr th:only-of-type {\n",
              "        vertical-align: middle;\n",
              "    }\n",
              "\n",
              "    .dataframe tbody tr th {\n",
              "        vertical-align: top;\n",
              "    }\n",
              "\n",
              "    .dataframe thead th {\n",
              "        text-align: right;\n",
              "    }\n",
              "</style>\n",
              "<table border=\"1\" class=\"dataframe\">\n",
              "  <thead>\n",
              "    <tr style=\"text-align: right;\">\n",
              "      <th></th>\n",
              "      <th>Unnamed: 0</th>\n",
              "      <th>file</th>\n",
              "      <th>a</th>\n",
              "      <th>a_tag</th>\n",
              "      <th>X</th>\n",
              "      <th>X_tag</th>\n",
              "      <th>b</th>\n",
              "      <th>b_tag</th>\n",
              "      <th>grammar cateogry</th>\n",
              "      <th>encode_cat</th>\n",
              "      <th>encode_pos</th>\n",
              "      <th>name</th>\n",
              "      <th>encoded_case</th>\n",
              "      <th>aXb</th>\n",
              "    </tr>\n",
              "  </thead>\n",
              "  <tbody>\n",
              "    <tr>\n",
              "      <th>22717</th>\n",
              "      <td>14929</td>\n",
              "      <td>Eve/020100a.xml</td>\n",
              "      <td>chew</td>\n",
              "      <td>v</td>\n",
              "      <td>them</td>\n",
              "      <td>pro:obj</td>\n",
              "      <td>up</td>\n",
              "      <td>adv</td>\n",
              "      <td>NOUN</td>\n",
              "      <td>6</td>\n",
              "      <td>72</td>\n",
              "      <td>Eve</td>\n",
              "      <td>1</td>\n",
              "      <td>chew_up</td>\n",
              "    </tr>\n",
              "    <tr>\n",
              "      <th>4592</th>\n",
              "      <td>21268</td>\n",
              "      <td>Nina/020305.xml</td>\n",
              "      <td>shall</td>\n",
              "      <td>mod</td>\n",
              "      <td>I</td>\n",
              "      <td>pro:sub</td>\n",
              "      <td>stick</td>\n",
              "      <td>v</td>\n",
              "      <td>NOUN</td>\n",
              "      <td>6</td>\n",
              "      <td>84</td>\n",
              "      <td>Nina</td>\n",
              "      <td>2</td>\n",
              "      <td>shall_stick</td>\n",
              "    </tr>\n",
              "    <tr>\n",
              "      <th>5583</th>\n",
              "      <td>23713</td>\n",
              "      <td>Aran/020610.xml</td>\n",
              "      <td>now</td>\n",
              "      <td>adv</td>\n",
              "      <td>we</td>\n",
              "      <td>pro:sub</td>\n",
              "      <td>want</td>\n",
              "      <td>v</td>\n",
              "      <td>NOUN</td>\n",
              "      <td>6</td>\n",
              "      <td>84</td>\n",
              "      <td>Aran</td>\n",
              "      <td>2</td>\n",
              "      <td>now_want</td>\n",
              "    </tr>\n",
              "    <tr>\n",
              "      <th>11508</th>\n",
              "      <td>4460</td>\n",
              "      <td>Nina/020305.xml</td>\n",
              "      <td>kidding</td>\n",
              "      <td>part</td>\n",
              "      <td>him</td>\n",
              "      <td>pro:obj</td>\n",
              "      <td>E</td>\n",
              "      <td>/e</td>\n",
              "      <td>NOUN</td>\n",
              "      <td>6</td>\n",
              "      <td>72</td>\n",
              "      <td>Nina</td>\n",
              "      <td>1</td>\n",
              "      <td>kidding_E</td>\n",
              "    </tr>\n",
              "    <tr>\n",
              "      <th>3586</th>\n",
              "      <td>1786</td>\n",
              "      <td>Nina/020106.xml</td>\n",
              "      <td>put</td>\n",
              "      <td>v</td>\n",
              "      <td>your</td>\n",
              "      <td>det:poss</td>\n",
              "      <td>slippers</td>\n",
              "      <td>n</td>\n",
              "      <td>DET</td>\n",
              "      <td>4</td>\n",
              "      <td>25</td>\n",
              "      <td>Nina</td>\n",
              "      <td>0</td>\n",
              "      <td>put_slippers</td>\n",
              "    </tr>\n",
              "  </tbody>\n",
              "</table>\n",
              "</div>"
            ],
            "text/plain": [
              "       Unnamed: 0             file        a  ...  name encoded_case           aXb\n",
              "22717       14929  Eve/020100a.xml     chew  ...   Eve            1       chew_up\n",
              "4592        21268  Nina/020305.xml    shall  ...  Nina            2   shall_stick\n",
              "5583        23713  Aran/020610.xml      now  ...  Aran            2      now_want\n",
              "11508        4460  Nina/020305.xml  kidding  ...  Nina            1     kidding_E\n",
              "3586         1786  Nina/020106.xml      put  ...  Nina            0  put_slippers\n",
              "\n",
              "[5 rows x 14 columns]"
            ]
          },
          "metadata": {
            "tags": []
          },
          "execution_count": 9
        }
      ]
    },
    {
      "cell_type": "code",
      "metadata": {
        "id": "mYeqMuzzrprX",
        "colab": {
          "base_uri": "https://localhost:8080/",
          "height": 298
        },
        "outputId": "7dcfc5f7-91a6-49a8-f448-ce74b7b84032"
      },
      "source": [
        "#'we' as most frequent pronoun. (All data excluded 'you' and 'it')\n",
        "df['X'].value_counts().plot(kind = 'bar')"
      ],
      "execution_count": 10,
      "outputs": [
        {
          "output_type": "execute_result",
          "data": {
            "text/plain": [
              "<matplotlib.axes._subplots.AxesSubplot at 0x7f19ba1c8e48>"
            ]
          },
          "metadata": {
            "tags": []
          },
          "execution_count": 10
        },
        {
          "output_type": "display_data",
          "data": {
            "image/png": "[encoded data removed]",
            "text/plain": [
              "<Figure size 432x288 with 1 Axes>"
            ]
          },
          "metadata": {
            "tags": [],
            "needs_background": "light"
          }
        }
      ]
    },
    {
      "cell_type": "code",
      "metadata": {
        "id": "V_BS0dodrvhv",
        "colab": {
          "base_uri": "https://localhost:8080/",
          "height": 315
        },
        "outputId": "5dc2e0dd-3f44-4b20-df93-4a42b0439e6c"
      },
      "source": [
        "#Nominative case as most frequent case.\n",
        "df['X_tag'].value_counts().plot(kind = 'bar')"
      ],
      "execution_count": 11,
      "outputs": [
        {
          "output_type": "execute_result",
          "data": {
            "text/plain": [
              "<matplotlib.axes._subplots.AxesSubplot at 0x7f19ba0d5940>"
            ]
          },
          "metadata": {
            "tags": []
          },
          "execution_count": 11
        },
        {
          "output_type": "display_data",
          "data": {
            "image/png": "[encoded data removed]",
            "text/plain": [
              "<Figure size 432x288 with 1 Axes>"
            ]
          },
          "metadata": {
            "tags": [],
            "needs_background": "light"
          }
        }
      ]
    },
    {
      "cell_type": "code",
      "metadata": {
        "id": "TpTORB3i0piz",
        "colab": {
          "base_uri": "https://localhost:8080/",
          "height": 304
        },
        "outputId": "3a0c7115-06b6-4c83-c77a-e9ce2b94dce2"
      },
      "source": [
        "#Different parents have different amount of samples\n",
        "df['name'].value_counts().plot(kind = 'bar')"
      ],
      "execution_count": 12,
      "outputs": [
        {
          "output_type": "execute_result",
          "data": {
            "text/plain": [
              "<matplotlib.axes._subplots.AxesSubplot at 0x7f19ba1c8828>"
            ]
          },
          "metadata": {
            "tags": []
          },
          "execution_count": 12
        },
        {
          "output_type": "display_data",
          "data": {
            "image/png": "[encoded data removed]",
            "text/plain": [
              "<Figure size 432x288 with 1 Axes>"
            ]
          },
          "metadata": {
            "tags": [],
            "needs_background": "light"
          }
        }
      ]
    },
    {
      "cell_type": "code",
      "metadata": {
        "id": "XMCq-XiP2c7E"
      },
      "source": [
        "#one-hot encoded aX, Xb and aXb\n",
        "onehot_aX = pd.get_dummies(df.a)\n",
        "onehot_Xb = pd.get_dummies(df.b)\n",
        "onehot_aXb = pd.get_dummies(df.aXb)\n",
        "df['onehot_aX'] = list(onehot_aX.values)\n",
        "df['onehot_Xb'] = list(onehot_Xb.values)\n",
        "df['onehot_aXb'] = list(onehot_aXb.values)"
      ],
      "execution_count": 13,
      "outputs": []
    },
    {
      "cell_type": "code",
      "metadata": {
        "id": "MCH1dR6Y38uD",
        "colab": {
          "base_uri": "https://localhost:8080/",
          "height": 533
        },
        "outputId": "f858cbf0-deb6-49c7-daf6-132cc9c550a7"
      },
      "source": [
        "#Training model for aX + Xb (using aX + Xb information to predict the case of pronoun X)\n",
        "aXshape = onehot_aX.shape[1]\n",
        "bXshape = onehot_Xb.shape[1]\n",
        "aX_input = keras.Input(shape=(aXshape,) , name ='aX')\n",
        "Xb_input = keras.Input(shape=(bXshape,) ,name = 'Xb')\n",
        "aX = layers.Dense(200, activation = 'relu')(aX_input)\n",
        "Xb = layers.Dense(200, activation='relu')(Xb_input)\n",
        "x = layers.concatenate([aX, Xb])\n",
        "x = layers.Dense(200, activation = 'relu')(x)\n",
        "case_pred = layers.Dense(3, name = 'case')(x)\n",
        "model = keras.Model(\n",
        "    inputs = [aX_input, Xb_input],\n",
        "    outputs = case_pred)\n",
        "keras.utils.plot_model(model, \"aX + Xb model.png\", show_shapes = True)\n"
      ],
      "execution_count": 14,
      "outputs": [
        {
          "output_type": "execute_result",
          "data": {
            "image/png": "[encoded data removed]",
            "text/plain": [
              "<IPython.core.display.Image object>"
            ]
          },
          "metadata": {
            "tags": []
          },
          "execution_count": 14
        }
      ]
    },
    {
      "cell_type": "code",
      "metadata": {
        "id": "5tngiyK-45nq"
      },
      "source": [
        "#preparing data\n",
        "aX = np.asarray(onehot_aX).astype(np.float32)\n",
        "Xb = np.asarray(onehot_Xb).astype(np.float32)\n",
        "aXb = np.asarray(onehot_aXb).astype(np.float32)\n",
        "Y_case = np.asarray(df['encoded_case']).astype(np.float32)\n",
        "X = {'aX': aX, 'Xb': Xb}"
      ],
      "execution_count": 17,
      "outputs": []
    },
    {
      "cell_type": "code",
      "metadata": {
        "id": "SQViXWqCay11"
      },
      "source": [
        "Y_pronoun = np.asarray(df['encoded_case']).astype(np.float32)"
      ],
      "execution_count": 19,
      "outputs": []
    },
    {
      "cell_type": "code",
      "metadata": {
        "id": "sWjfZ_Az2DoV"
      },
      "source": [
        "#10fold cross validation\n",
        "kfold = StratifiedKFold(n_splits=10, shuffle = False, random_state = 88)\n",
        "early_stop = keras.callbacks.EarlyStopping(monitor='accuracy', patience=10)\n",
        "trainindex = []\n",
        "testindex = []\n",
        "for train_index, test_index in kfold.split(aX, Y_case):\n",
        "  print(\"Train:\", train_index, \"Test:\", test_index)\n",
        "  trainindex.append(train_index)\n",
        "  testindex.append(test_index)"
      ],
      "execution_count": null,
      "outputs": []
    },
    {
      "cell_type": "code",
      "metadata": {
        "id": "K__ozeFO5xhL"
      },
      "source": [
        "#train the model with 10 fold \n",
        "#save the accuracy score \n",
        "#save the predicted case for each fold\n",
        "aX_Xb_y_pred_kfold = []\n",
        "aX_Xb_cvscores = []\n",
        "for train, test in zip(trainindex, testindex): \n",
        "  model.compile(\n",
        "    optimizer='adam',\n",
        "    loss=tf.keras.losses.SparseCategoricalCrossentropy(from_logits=True),\n",
        "    metrics = ['accuracy', 'mse'])\n",
        "  model.fit({\"aX\": aX[train], \"Xb\": Xb[train]}, \n",
        "            Y_case[train],\n",
        "          validation_split = 0.2,\n",
        "          callbacks=[early_stop, tfdocs.modeling.EpochDots()], \n",
        "          epochs=100,\n",
        "          batch_size = 32)\n",
        "  scores = model.evaluate({\"aX\": aX[test], \"Xb\": Xb[test]}, y={\"case\": Y_case[test]}, verbose=2)\n",
        "  y_pred = model.predict([aX[test], Xb[test]])\n",
        "  print(\"%s: %.2f%%\" % (model.metrics_names[1], scores[1]*100))\n",
        "  aX_Xb_cvscores.append(scores[1] * 100)\n",
        "  aX_Xb_y_pred_kfold.append(y_pred)"
      ],
      "execution_count": null,
      "outputs": []
    },
    {
      "cell_type": "code",
      "metadata": {
        "id": "yJfkfBbv5hlw",
        "colab": {
          "base_uri": "https://localhost:8080/"
        },
        "outputId": "76f5f7fc-cfc0-4e11-c578-75f6d039f5cc"
      },
      "source": [
        "print('aX+Xb accuracy for each fold:{}'.format(aX_Xb_cvscores))\n",
        "print('aX+Xb accuracy average:{}'.format(sum(aX_Xb_cvscores)/len(aX_Xb_cvscores)))"
      ],
      "execution_count": 24,
      "outputs": [
        {
          "output_type": "stream",
          "text": [
            "aX+Xb accuracy for each fold:[97.38851189613342, 99.19646382331848, 99.19646382331848, 99.27681684494019, 99.47770237922668, 99.27681684494019, 98.99557828903198, 99.4375228881836, 97.06709384918213, 96.46302461624146]\n",
            "aX+Xb accuracy average:98.57759952545166\n"
          ],
          "name": "stdout"
        }
      ]
    },
    {
      "cell_type": "code",
      "metadata": {
        "id": "HEKDql9VVF6_"
      },
      "source": [
        "## Put the results in a dataframe\n",
        "dftestsum = []\n",
        "for i in range(0,10):\n",
        "  dftest = df.iloc[testindex[i]]\n",
        "  dftest['pred_y_aX_Xb'] = aX_Xb_y_pred_case[i]\n",
        "  dftest['fold'] = i\n",
        "  dftestsum.append(dftest)\n",
        "kfold = pd.concat(dftestsum)\n",
        "kfold['aX_Xb_correct'] = np.where((kfold['pred_y_aX_Xb'] == kfold['encoded_case']) , 1, 0)"
      ],
      "execution_count": null,
      "outputs": []
    },
    {
      "cell_type": "code",
      "metadata": {
        "id": "CFxvwzH-Adfq",
        "colab": {
          "base_uri": "https://localhost:8080/"
        },
        "outputId": "6a740c18-f126-4157-b08e-73dac9e15e48"
      },
      "source": [
        "from sklearn import metrics\n",
        "target_names = ['det:poss','pro:obj','pro:sub']\n",
        "print('aX+Xb classification')\n",
        "print(metrics.classification_report(kfold['encoded_case'], kfold['pred_y_aX_Xb'], digits=3, target_names=target_names))"
      ],
      "execution_count": 31,
      "outputs": [
        {
          "output_type": "stream",
          "text": [
            "aX+Xb classification\n",
            "              precision    recall  f1-score   support\n",
            "\n",
            "    det:poss      0.983     0.969     0.976      6156\n",
            "     pro:obj      0.965     0.973     0.969      4152\n",
            "     pro:sub      0.993     0.996     0.995     14581\n",
            "\n",
            "    accuracy                          0.986     24889\n",
            "   macro avg      0.980     0.980     0.980     24889\n",
            "weighted avg      0.986     0.986     0.986     24889\n",
            "\n"
          ],
          "name": "stdout"
        }
      ]
    }
  ]
}